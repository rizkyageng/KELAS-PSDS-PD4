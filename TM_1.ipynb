{
  "nbformat": 4,
  "nbformat_minor": 0,
  "metadata": {
    "colab": {
      "provenance": [],
      "authorship_tag": "ABX9TyO3Aaozp4Ocvbkk4VvtKK42",
      "include_colab_link": true
    },
    "kernelspec": {
      "name": "python3",
      "display_name": "Python 3"
    },
    "language_info": {
      "name": "python"
    }
  },
  "cells": [
    {
      "cell_type": "markdown",
      "metadata": {
        "id": "view-in-github",
        "colab_type": "text"
      },
      "source": [
        "<a href=\"https://colab.research.google.com/github/rizkyageng/KELAS-PSDS-PD4/blob/main/TM_1.ipynb\" target=\"_parent\"><img src=\"https://colab.research.google.com/assets/colab-badge.svg\" alt=\"Open In Colab\"/></a>"
      ]
    },
    {
      "cell_type": "code",
      "execution_count": null,
      "metadata": {
        "colab": {
          "base_uri": "https://localhost:8080/",
          "height": 130
        },
        "id": "Nb8zrnr5ZLcx",
        "outputId": "a1470922-4b48-41f4-d588-7763c63e8e57"
      },
      "outputs": [
        {
          "output_type": "error",
          "ename": "SyntaxError",
          "evalue": "ignored",
          "traceback": [
            "\u001b[0;36m  File \u001b[0;32m\"<ipython-input-1-7644d7621fa9>\"\u001b[0;36m, line \u001b[0;32m1\u001b[0m\n\u001b[0;31m    if test expression:\u001b[0m\n\u001b[0m            ^\u001b[0m\n\u001b[0;31mSyntaxError\u001b[0m\u001b[0;31m:\u001b[0m invalid syntax\n"
          ]
        }
      ],
      "source": [
        "if test expression:\n",
        "  statement(s)"
      ]
    },
    {
      "cell_type": "code",
      "source": [],
      "metadata": {
        "id": "hJCZM1t5TZ7U"
      },
      "execution_count": null,
      "outputs": []
    },
    {
      "cell_type": "code",
      "source": [
        "angka=-2\n",
        "if angka > 0 :\n",
        "  print(angka, \"angka bilangan positif.\")\n",
        "print(angka, \"angka bilangan negatif\")"
      ],
      "metadata": {
        "colab": {
          "base_uri": "https://localhost:8080/"
        },
        "id": "9kFjJCS9aUqI",
        "outputId": "65a058ed-284a-46e8-da5b-4da3e4447052"
      },
      "execution_count": null,
      "outputs": [
        {
          "output_type": "stream",
          "name": "stdout",
          "text": [
            "-2 angka bilangan negatif\n"
          ]
        }
      ]
    },
    {
      "cell_type": "code",
      "source": [
        "#Program disusun untuk mengecek apakah angka kurang dari 0 atau tidak\n",
        "\n",
        "angka =3 \n",
        "if angka >= 0:\n",
        "    print(\"bilangan lebih dari atau sama dengan 0\")\n",
        "else:\n",
        "  print(\"bilangan kurang dari 0\")"
      ],
      "metadata": {
        "colab": {
          "base_uri": "https://localhost:8080/"
        },
        "id": "VbyZkJbqbPX0",
        "outputId": "157206e5-15c2-486c-9194-b636ff0d2444"
      },
      "execution_count": null,
      "outputs": [
        {
          "output_type": "stream",
          "name": "stdout",
          "text": [
            "bilangan lebih dari atau sama dengan 0\n"
          ]
        }
      ]
    },
    {
      "cell_type": "code",
      "source": [
        "#Program disusun untuk mengecek apakah angka kurang dari 0 atau tidak\n",
        "\n",
        "a= 5\n",
        "b= 5\n",
        "if a==b:\n",
        "    print(\"a dan b bernilai sama\")\n",
        "else:\n",
        "    print (\"a dan b bernilai berbeda\")\n"
      ],
      "metadata": {
        "colab": {
          "base_uri": "https://localhost:8080/"
        },
        "id": "FUw3WuAxcjVW",
        "outputId": "aa66cf45-e07d-419b-8664-a125741301d6"
      },
      "execution_count": null,
      "outputs": [
        {
          "output_type": "stream",
          "name": "stdout",
          "text": [
            "a dan b bernilai sama\n"
          ]
        }
      ]
    },
    {
      "cell_type": "code",
      "source": [
        "#Program disusun untuk mengecek apakah perbandingan dua buah angka\n",
        "\n",
        "bil1 = int(input(\"Masukan bilangan pertama: \"))\n",
        "bil2 = int(input(\"Masukan bilangan kedua: \"))\n",
        "\n",
        "#Memilih bilangan yang lebih besar \n",
        "if bil1 > bil2:\n",
        "  bil_lebih_besar = bil1\n",
        "else:\n",
        "  bil_lebih_besar = bil2\n",
        "\n",
        "#Menampilkan hasil\n",
        "print(\"Bilangan yang lebih besar adalah:\", bil_lebih_besar)"
      ],
      "metadata": {
        "colab": {
          "base_uri": "https://localhost:8080/"
        },
        "id": "2ijsgavcdGXJ",
        "outputId": "7070dbc4-862c-4726-fec3-65f315684c00"
      },
      "execution_count": null,
      "outputs": [
        {
          "output_type": "stream",
          "name": "stdout",
          "text": [
            "Masukan bilangan pertama: 2\n",
            "Masukan bilangan kedua: 2\n",
            "Bilangan yang lebih besar adalah: 2\n"
          ]
        }
      ]
    },
    {
      "cell_type": "code",
      "source": [
        "if test expression:\n",
        "    body of if\n",
        "elif test expression:\n",
        "    body of elif \n",
        "else:\n",
        "    body of else"
      ],
      "metadata": {
        "id": "t5zuP9FngjTm"
      },
      "execution_count": null,
      "outputs": []
    },
    {
      "cell_type": "code",
      "source": [],
      "metadata": {
        "id": "bPufXzOWg_gy"
      },
      "execution_count": null,
      "outputs": []
    }
  ]
}