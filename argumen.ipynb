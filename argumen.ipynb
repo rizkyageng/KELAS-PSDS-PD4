{
  "nbformat": 4,
  "nbformat_minor": 0,
  "metadata": {
    "colab": {
      "provenance": [],
      "authorship_tag": "ABX9TyNwnvhp8irUpX2xZewdDfdM",
      "include_colab_link": true
    },
    "kernelspec": {
      "name": "python3",
      "display_name": "Python 3"
    },
    "language_info": {
      "name": "python"
    }
  },
  "cells": [
    {
      "cell_type": "markdown",
      "metadata": {
        "id": "view-in-github",
        "colab_type": "text"
      },
      "source": [
        "<a href=\"https://colab.research.google.com/github/rizkyageng/KELAS-PSDS-PD4/blob/main/argumen.ipynb\" target=\"_parent\"><img src=\"https://colab.research.google.com/assets/colab-badge.svg\" alt=\"Open In Colab\"/></a>"
      ]
    },
    {
      "cell_type": "code",
      "execution_count": null,
      "metadata": {
        "id": "f5s8JrbgtrDl"
      },
      "outputs": [],
      "source": [
        "#argumen default \n",
        "def angka2 (a, b, c, d=4):\n",
        "    print(a, b, c, d)\n",
        "\n",
        "    angka2(1, 2, 3, 4)\n",
        "    angka2(1, b=2, c=3, d=100)\n",
        "    angka2(1, 2, 3)\n",
        "\n",
        "  #argumen default harus diletakkan terakhir"
      ]
    },
    {
      "cell_type": "code",
      "source": [
        "x=1\n",
        "y=2\n",
        "x+y"
      ],
      "metadata": {
        "colab": {
          "base_uri": "https://localhost:8080/"
        },
        "id": "PUYtc3j1yfbi",
        "outputId": "ae5f7e97-c596-4339-eae4-c5e28d89badc"
      },
      "execution_count": null,
      "outputs": [
        {
          "output_type": "execute_result",
          "data": {
            "text/plain": [
              "3"
            ]
          },
          "metadata": {},
          "execution_count": 12
        }
      ]
    },
    {
      "cell_type": "code",
      "source": [
        "def penjumlahan(x, y): #input\n",
        "    a=x+y               #proses\n",
        "    return a          #output\n",
        "\n",
        "    penjumlahan(1, 2)  #menggunakan fungsi"
      ],
      "metadata": {
        "id": "_ip3KN4kylRP"
      },
      "execution_count": null,
      "outputs": []
    },
    {
      "cell_type": "code",
      "source": [
        "def penjumlahan(x,y,z=None):\n",
        "  if (z==None):\n",
        "    return x+y\n",
        "  else:\n",
        "    return x+y+z\n",
        "  print(penjumlahan(1, 2))\n",
        "  print(penjumlahan(1, 2, 3))"
      ],
      "metadata": {
        "id": "z-d-mbO4y-Jg"
      },
      "execution_count": null,
      "outputs": []
    },
    {
      "cell_type": "code",
      "source": [
        "def penjumlahan(x,y):\n",
        "  return x+y\n",
        "a = penjumlahan\n",
        "a(1, 2)"
      ],
      "metadata": {
        "colab": {
          "base_uri": "https://localhost:8080/"
        },
        "id": "EMK-sRk_1aQk",
        "outputId": "bb14212b-2e05-4f83-8cca-b466f49b814e"
      },
      "execution_count": null,
      "outputs": [
        {
          "output_type": "execute_result",
          "data": {
            "text/plain": [
              "3"
            ]
          },
          "metadata": {},
          "execution_count": 16
        }
      ]
    }
  ]
}